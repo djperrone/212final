{
 "cells": [
  {
   "cell_type": "code",
   "execution_count": 11,
   "metadata": {},
   "outputs": [],
   "source": [
    "import seaborn as sns\n",
    "import matplotlib.pyplot as plt\n",
    "import pandas as pd"
   ]
  },
  {
   "cell_type": "code",
   "execution_count": null,
   "metadata": {},
   "outputs": [],
   "source": []
  },
  {
   "cell_type": "code",
   "execution_count": 12,
   "metadata": {},
   "outputs": [],
   "source": [
    "brute_df = pd.read_csv(\"brute_comp_word1.csv\")"
   ]
  },
  {
   "cell_type": "code",
   "execution_count": 13,
   "metadata": {},
   "outputs": [
    {
     "data": {
      "text/html": [
       "<div>\n",
       "<style scoped>\n",
       "    .dataframe tbody tr th:only-of-type {\n",
       "        vertical-align: middle;\n",
       "    }\n",
       "\n",
       "    .dataframe tbody tr th {\n",
       "        vertical-align: top;\n",
       "    }\n",
       "\n",
       "    .dataframe thead th {\n",
       "        text-align: right;\n",
       "    }\n",
       "</style>\n",
       "<table border=\"1\" class=\"dataframe\">\n",
       "  <thead>\n",
       "    <tr style=\"text-align: right;\">\n",
       "      <th></th>\n",
       "      <th>file_name</th>\n",
       "      <th>num_lines</th>\n",
       "      <th>total_comps</th>\n",
       "      <th>patterns_found</th>\n",
       "      <th>false_positives</th>\n",
       "      <th>avg_line_length</th>\n",
       "      <th>word1</th>\n",
       "      <th>-1</th>\n",
       "    </tr>\n",
       "  </thead>\n",
       "  <tbody>\n",
       "    <tr>\n",
       "      <th>0</th>\n",
       "      <td>../../books/10LinesFirst.txt</td>\n",
       "      <td>10</td>\n",
       "      <td>308</td>\n",
       "      <td>0</td>\n",
       "      <td>308</td>\n",
       "      <td>35</td>\n",
       "      <td>NaN</td>\n",
       "      <td>NaN</td>\n",
       "    </tr>\n",
       "    <tr>\n",
       "      <th>1</th>\n",
       "      <td>../../books/10LinesSecond.txt</td>\n",
       "      <td>10</td>\n",
       "      <td>301</td>\n",
       "      <td>0</td>\n",
       "      <td>301</td>\n",
       "      <td>35</td>\n",
       "      <td>NaN</td>\n",
       "      <td>NaN</td>\n",
       "    </tr>\n",
       "    <tr>\n",
       "      <th>2</th>\n",
       "      <td>../../books/100LinesFirst.txt</td>\n",
       "      <td>100</td>\n",
       "      <td>4206</td>\n",
       "      <td>0</td>\n",
       "      <td>4206</td>\n",
       "      <td>46</td>\n",
       "      <td>NaN</td>\n",
       "      <td>NaN</td>\n",
       "    </tr>\n",
       "    <tr>\n",
       "      <th>3</th>\n",
       "      <td>../../books/100LinesSecond.txt</td>\n",
       "      <td>100</td>\n",
       "      <td>4004</td>\n",
       "      <td>0</td>\n",
       "      <td>4004</td>\n",
       "      <td>43</td>\n",
       "      <td>NaN</td>\n",
       "      <td>NaN</td>\n",
       "    </tr>\n",
       "    <tr>\n",
       "      <th>4</th>\n",
       "      <td>../../books/1000LinesFirst.txt</td>\n",
       "      <td>1000</td>\n",
       "      <td>44631</td>\n",
       "      <td>2</td>\n",
       "      <td>44573</td>\n",
       "      <td>48</td>\n",
       "      <td>NaN</td>\n",
       "      <td>NaN</td>\n",
       "    </tr>\n",
       "  </tbody>\n",
       "</table>\n",
       "</div>"
      ],
      "text/plain": [
       "                        file_name  num_lines  total_comps  patterns_found  \\\n",
       "0    ../../books/10LinesFirst.txt         10          308               0   \n",
       "1   ../../books/10LinesSecond.txt         10          301               0   \n",
       "2   ../../books/100LinesFirst.txt        100         4206               0   \n",
       "3  ../../books/100LinesSecond.txt        100         4004               0   \n",
       "4  ../../books/1000LinesFirst.txt       1000        44631               2   \n",
       "\n",
       "   false_positives  avg_line_length  word1  -1  \n",
       "0              308               35    NaN NaN  \n",
       "1              301               35    NaN NaN  \n",
       "2             4206               46    NaN NaN  \n",
       "3             4004               43    NaN NaN  \n",
       "4            44573               48    NaN NaN  "
      ]
     },
     "execution_count": 13,
     "metadata": {},
     "output_type": "execute_result"
    }
   ],
   "source": [
    "brute_df.head()"
   ]
  },
  {
   "cell_type": "code",
   "execution_count": 16,
   "metadata": {},
   "outputs": [
    {
     "data": {
      "text/plain": [
       "[<matplotlib.lines.Line2D at 0x227481e6e50>]"
      ]
     },
     "execution_count": 16,
     "metadata": {},
     "output_type": "execute_result"
    },
    {
     "data": {
      "image/png": "[encoded data removed]",
      "text/plain": [
       "<Figure size 432x288 with 1 Axes>"
      ]
     },
     "metadata": {
      "needs_background": "light"
     },
     "output_type": "display_data"
    }
   ],
   "source": [
    "plt.plot(range(0,12),brute_df['total_comps'])"
   ]
  },
  {
   "cell_type": "code",
   "execution_count": null,
   "metadata": {},
   "outputs": [],
   "source": []
  }
 ],
 "metadata": {
  "kernelspec": {
   "display_name": "Python 3",
   "language": "python",
   "name": "python3"
  },
  "language_info": {
   "codemirror_mode": {
    "name": "ipython",
    "version": 3
   },
   "file_extension": ".py",
   "mimetype": "text/x-python",
   "name": "python",
   "nbconvert_exporter": "python",
   "pygments_lexer": "ipython3",
   "version": "3.8.3"
  }
 },
 "nbformat": 4,
 "nbformat_minor": 2
}
